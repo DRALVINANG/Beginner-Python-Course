{
  "nbformat": 4,
  "nbformat_minor": 0,
  "metadata": {
    "colab": {
      "name": "DAY 1 with Dr Alvin.ipynb",
      "provenance": [],
      "toc_visible": true
    },
    "kernelspec": {
      "name": "python3",
      "display_name": "Python 3"
    },
    "language_info": {
      "name": "python"
    }
  },
  "cells": [
    {
      "cell_type": "markdown",
      "metadata": {
        "id": "guuw3pEwAzc-"
      },
      "source": [
        "# Topic 1 = Getting Started"
      ]
    },
    {
      "cell_type": "markdown",
      "metadata": {
        "id": "IQSu2zlMDvxD"
      },
      "source": [
        "Hello World"
      ]
    },
    {
      "cell_type": "code",
      "metadata": {
        "id": "8O1PN7pkAkVC"
      },
      "source": [
        "#Type This\n",
        "\n",
        "print(\"Hello Everyone\")\n",
        "print(1+5)"
      ],
      "execution_count": null,
      "outputs": []
    },
    {
      "cell_type": "markdown",
      "metadata": {
        "id": "PrWvYnE7GVpi"
      },
      "source": [
        "# Topic 2 = Data Types"
      ]
    },
    {
      "cell_type": "markdown",
      "metadata": {
        "id": "d4l_wHwlD4gO"
      },
      "source": [
        "## Learning About Assignment"
      ]
    },
    {
      "cell_type": "code",
      "metadata": {
        "id": "K294EaHCBKyO"
      },
      "source": [
        "#Type This\n",
        "\n",
        "a = 1\n",
        "b = 2\n",
        "#print(a+b) -> Indentation Error\n",
        "print(a+b)"
      ],
      "execution_count": null,
      "outputs": []
    },
    {
      "cell_type": "code",
      "metadata": {
        "id": "PN5Yy276D7_m"
      },
      "source": [
        "#Type This\n",
        "\n",
        "a,b=1,2\n",
        "a,b = b,a+b\n",
        "print('a = ',a)\n",
        "print('b = ',b)"
      ],
      "execution_count": null,
      "outputs": []
    },
    {
      "cell_type": "markdown",
      "metadata": {
        "id": "6Qm1SHgGEHdo"
      },
      "source": [
        "## Learning About Format"
      ]
    },
    {
      "cell_type": "code",
      "metadata": {
        "id": "SgaF343dEJun"
      },
      "source": [
        "#Type This\n",
        "\n",
        "a = 1\n",
        "b = 2\n",
        "print(\"{}+{}={}\".format(a,b,a+b))"
      ],
      "execution_count": null,
      "outputs": []
    },
    {
      "cell_type": "code",
      "metadata": {
        "id": "f7mTiHYfEyUp"
      },
      "source": [
        "#Type This\n",
        "\n",
        "a = 1.222\n",
        "b = 2.333\n",
        "print(\"{:0.1f}+{:0.1f}={:0.1f}\".format(a,b,a+b))"
      ],
      "execution_count": null,
      "outputs": []
    },
    {
      "cell_type": "code",
      "metadata": {
        "colab": {
          "base_uri": "https://localhost:8080/"
        },
        "id": "nVwCx96NE8jv",
        "outputId": "04667a49-2839-4e0a-f4f0-be6bbd480455"
      },
      "source": [
        "#Type This\n",
        "\n",
        "a = 1.222\n",
        "b = 2.333\n",
        "print(\"{1:0.1f}+{0:0.1f}={2:0.1f}\".format(a,b,a+b))"
      ],
      "execution_count": null,
      "outputs": [
        {
          "output_type": "stream",
          "name": "stdout",
          "text": [
            "2.3+1.2=3.6\n"
          ]
        }
      ]
    },
    {
      "cell_type": "markdown",
      "metadata": {
        "id": "Y-1rdKGuGCkI"
      },
      "source": [
        "## Learning About Strings"
      ]
    },
    {
      "cell_type": "code",
      "metadata": {
        "id": "KzbDTGhRFBBJ"
      },
      "source": [
        "#Concatenating Two Strings\n",
        "#Type This\n",
        "\n",
        "a = \"Hello\"\n",
        "b = \" World\"\n",
        "print(a+b)"
      ],
      "execution_count": null,
      "outputs": []
    },
    {
      "cell_type": "code",
      "metadata": {
        "id": "1EXTaVGFHCxx"
      },
      "source": [
        "#Upper and Lower Case\n",
        "#Type This\n",
        "\n",
        "a = \"Hello\".upper()\n",
        "print(a)\n",
        "b = \" World\".lower()\n",
        "print(b)\n",
        "print(a+b)"
      ],
      "execution_count": null,
      "outputs": []
    },
    {
      "cell_type": "code",
      "metadata": {
        "id": "7axGRM64HFex"
      },
      "source": [
        "#Replacing Words\n",
        "#Type This\n",
        "\n",
        "a = \"Hello\"\n",
        "b = \" World\"\n",
        "c = a+b\n",
        "d = c.replace(\"World\",\"Alfred\")\n",
        "print(d)"
      ],
      "execution_count": null,
      "outputs": []
    },
    {
      "cell_type": "code",
      "metadata": {
        "id": "h5YW5KNQILk8"
      },
      "source": [
        "#Using Format with String\n",
        "#Type This\n",
        "\n",
        "name = \"Alfred\"\n",
        "print(\"My name is {}\".format(name))"
      ],
      "execution_count": null,
      "outputs": []
    },
    {
      "cell_type": "markdown",
      "metadata": {
        "id": "RANZqXYmIdrf"
      },
      "source": [
        "### Mini Exercise 1 = Guess the Output"
      ]
    },
    {
      "cell_type": "code",
      "metadata": {
        "id": "2wGB7CFOIVf0"
      },
      "source": [
        "#Don't run this, try to guess the output?\n",
        "\n",
        "country =\"france\".upper()\n",
        "capital =\"paris\".capitalize()\n",
        "\n",
        "print(\"The capital of {} is {}\".format(country,capital))"
      ],
      "execution_count": null,
      "outputs": []
    },
    {
      "cell_type": "code",
      "metadata": {
        "id": "-JG-LOACJIzS"
      },
      "source": [
        "#Remove Spacing in String using Strip\n",
        "#Type This\n",
        "\n",
        "a = \"         Hello\".strip()\n",
        "b = \" World\"\n",
        "print(a+b)"
      ],
      "execution_count": null,
      "outputs": []
    },
    {
      "cell_type": "code",
      "metadata": {
        "id": "iH_9X41xKB63"
      },
      "source": [
        "#Splitting a String\n",
        "#Type This\n",
        "\n",
        "a = \"The answer = 5 \"\n",
        "b = a.split('=')\n",
        "print(b)"
      ],
      "execution_count": null,
      "outputs": []
    },
    {
      "cell_type": "code",
      "metadata": {
        "id": "UAWHpHGGKTGP"
      },
      "source": [
        "#Joining a String\n",
        "#Type This\n",
        "\n",
        "c = \"=\".join(b)\n",
        "print(c)"
      ],
      "execution_count": null,
      "outputs": []
    },
    {
      "cell_type": "markdown",
      "metadata": {
        "id": "GbEKjeObKeLr"
      },
      "source": [
        "##Learning About List"
      ]
    },
    {
      "cell_type": "code",
      "metadata": {
        "id": "jw-N8qxiK2XR"
      },
      "source": [
        "#Type This\n",
        "a = ['apple','orange','banana','durian']\n",
        "print(a)"
      ],
      "execution_count": null,
      "outputs": []
    },
    {
      "cell_type": "code",
      "metadata": {
        "id": "85J_RXJOKgyT"
      },
      "source": [
        "#Type This\n",
        "a[0]"
      ],
      "execution_count": null,
      "outputs": []
    },
    {
      "cell_type": "code",
      "metadata": {
        "id": "lFYs_lN9Nt32"
      },
      "source": [
        "#Type This\n",
        "a[2]"
      ],
      "execution_count": null,
      "outputs": []
    },
    {
      "cell_type": "code",
      "metadata": {
        "id": "-9P-OOCnNtzf"
      },
      "source": [
        "#Type This\n",
        "a[0:4]"
      ],
      "execution_count": null,
      "outputs": []
    },
    {
      "cell_type": "code",
      "metadata": {
        "id": "W6C_3eFGNtuZ"
      },
      "source": [
        "#Type This\n",
        "a[2:4]"
      ],
      "execution_count": null,
      "outputs": []
    },
    {
      "cell_type": "code",
      "metadata": {
        "id": "oYuNRKi-Ntlv"
      },
      "source": [
        "#Type This\n",
        "a[-1]"
      ],
      "execution_count": null,
      "outputs": []
    },
    {
      "cell_type": "code",
      "metadata": {
        "id": "swPGDbSfNtgn"
      },
      "source": [
        "#Type This\n",
        "a.index('banana')"
      ],
      "execution_count": null,
      "outputs": []
    },
    {
      "cell_type": "code",
      "metadata": {
        "id": "wLdFT-YsOZ4H"
      },
      "source": [
        "#Appending Lists\n",
        "#Type This\n",
        "\n",
        "a = ['apple','orange','banana','durian']\n",
        "a.append('mango')\n",
        "a"
      ],
      "execution_count": null,
      "outputs": []
    },
    {
      "cell_type": "code",
      "metadata": {
        "id": "5tvubWJSOjpn"
      },
      "source": [
        "#Inserting Into a List\n",
        "#Type This\n",
        "\n",
        "a.insert(2,'strawberry')\n",
        "a"
      ],
      "execution_count": null,
      "outputs": []
    },
    {
      "cell_type": "markdown",
      "metadata": {
        "id": "JlHxrdqvPjCY"
      },
      "source": [
        "###Mini Exercise 2 = What's the Difference between \"Append\" vs \"Insert\" ? "
      ]
    },
    {
      "cell_type": "code",
      "metadata": {
        "id": "fND5Sxm1Ol8-"
      },
      "source": [
        "#Removing from a List\n",
        "#Type This\n",
        "\n",
        "a.remove('banana')\n",
        "a"
      ],
      "execution_count": null,
      "outputs": []
    },
    {
      "cell_type": "code",
      "metadata": {
        "id": "bb0wybekP6Gr"
      },
      "source": [
        "#Learn how to Pop into a List\n",
        "#Type This\n",
        "\n",
        "a.pop()\n",
        "a"
      ],
      "execution_count": null,
      "outputs": []
    },
    {
      "cell_type": "code",
      "metadata": {
        "id": "VQHM-ZCnQAmX"
      },
      "source": [
        "#Type This\n",
        "\n",
        "a.pop(0)\n",
        "a"
      ],
      "execution_count": null,
      "outputs": []
    },
    {
      "cell_type": "markdown",
      "metadata": {
        "id": "oIXJM87DQOD9"
      },
      "source": [
        "###Mini Exercise 3 = What's the Difference between \"Remove\" vs \"Pop\"?"
      ]
    },
    {
      "cell_type": "code",
      "metadata": {
        "id": "phY2VpFoQV0B"
      },
      "source": [
        "#Learn how to Copy Lists\n",
        "#Type This\n",
        "\n",
        "a = ['apple','orange','banana','durian']\n",
        "b = a.copy()\n",
        "b"
      ],
      "execution_count": null,
      "outputs": []
    },
    {
      "cell_type": "code",
      "metadata": {
        "id": "k67zSvQsQx2d"
      },
      "source": [
        "#Copy by Assigning (Another way of Copying)\n",
        "#Type This\n",
        "\n",
        "c = a \n",
        "c"
      ],
      "execution_count": null,
      "outputs": []
    },
    {
      "cell_type": "code",
      "metadata": {
        "id": "YXFFDTlmTbCB"
      },
      "source": [
        "#Reversing a List\n",
        "#Type this\n",
        "\n",
        "a.reverse()\n",
        "a"
      ],
      "execution_count": null,
      "outputs": []
    },
    {
      "cell_type": "code",
      "metadata": {
        "id": "PqZUjMZeTtF_"
      },
      "source": [
        "#Appending a List\n",
        "#Type this\n",
        "\n",
        "a.append('orange')\n",
        "a"
      ],
      "execution_count": null,
      "outputs": []
    },
    {
      "cell_type": "code",
      "metadata": {
        "id": "_6FTdhrUTx32"
      },
      "source": [
        "#Stating the Order on a List\n",
        "#Type this\n",
        "\n",
        "a.count('orange')"
      ],
      "execution_count": null,
      "outputs": []
    },
    {
      "cell_type": "markdown",
      "metadata": {
        "id": "MbEzsrdET-SR"
      },
      "source": [
        "###1st Quiz of the Day...\n",
        "\n",
        "letters =['A','C','C','A','T','T','G','A','C','A']\n",
        "\n",
        "**Manipulate the letters** \n",
        "* copy from original letters to letters2\n",
        "* remove G in new letters\n",
        "* insert A in location 3\n",
        "* reverse the order of new letters\n",
        "\n",
        "Time = 5 min"
      ]
    },
    {
      "cell_type": "code",
      "metadata": {
        "colab": {
          "base_uri": "https://localhost:8080/"
        },
        "id": "AtK_xVhaTtDK",
        "outputId": "ed8c6b50-69f7-4345-d0b5-cabc9df50fd3"
      },
      "source": [
        "#Hint to 1st Quiz of the Day\n",
        "\n",
        "letters =['A','C','C','A','T','T','G','A','C','A']\n",
        "\n",
        "letters2 = letters.copy()\n",
        "...\n",
        "...\n",
        "...\n",
        "..."
      ],
      "execution_count": null,
      "outputs": [
        {
          "output_type": "execute_result",
          "data": {
            "text/plain": [
              "Ellipsis"
            ]
          },
          "metadata": {},
          "execution_count": 8
        }
      ]
    },
    {
      "cell_type": "code",
      "metadata": {
        "id": "dDJWFFoXbg4x"
      },
      "source": [
        "#Answer to 1st Quiz of the Day\n",
        "\n",
        "letters =['A','C','C','A','T','T','G','A','C','A']\n",
        "\n",
        "letters2 = letters.copy()\n",
        "letters2.remove('G')\n",
        "letters2.insert(3,'A')\n",
        "letters2.reverse()\n",
        "letters2"
      ],
      "execution_count": null,
      "outputs": []
    },
    {
      "cell_type": "markdown",
      "metadata": {
        "id": "Uk-jS_cIrBl6"
      },
      "source": [
        "##Learning about Tuple"
      ]
    },
    {
      "cell_type": "code",
      "metadata": {
        "colab": {
          "base_uri": "https://localhost:8080/",
          "height": 36
        },
        "id": "tnsLNY5UrFCQ",
        "outputId": "164f447b-a7e0-437c-e6e6-fe5b5cd705c3"
      },
      "source": [
        "#Type this\n",
        "\n",
        "a = ('apple','orange','banana','durian')\n",
        "a"
      ],
      "execution_count": null,
      "outputs": [
        {
          "output_type": "execute_result",
          "data": {
            "application/vnd.google.colaboratory.intrinsic+json": {
              "type": "string"
            },
            "text/plain": [
              "'apple'"
            ]
          },
          "metadata": {},
          "execution_count": 9
        }
      ]
    },
    {
      "cell_type": "code",
      "metadata": {
        "id": "vCilCNSHrKfS"
      },
      "source": [
        "#Type this\n",
        "\n",
        "a[0]"
      ],
      "execution_count": null,
      "outputs": []
    },
    {
      "cell_type": "markdown",
      "metadata": {
        "id": "ZKdJYR6orPeB"
      },
      "source": [
        "###Mini Exercise 4 = What's the Difference between \"List\" vs \"Tuple\"?"
      ]
    },
    {
      "cell_type": "code",
      "metadata": {
        "id": "YGV_g0qbreHI"
      },
      "source": [
        "#Try Appending a Tuple\n",
        "#Type this\n",
        "\n",
        "a.append('mango')"
      ],
      "execution_count": null,
      "outputs": []
    },
    {
      "cell_type": "markdown",
      "metadata": {
        "id": "w4VVuoY_riQR"
      },
      "source": [
        "##Learning About Dictionary"
      ]
    },
    {
      "cell_type": "code",
      "metadata": {
        "id": "xnbb7ytVrwep"
      },
      "source": [
        "#Type This\n",
        "\n",
        "a = {'France':'Paris','Germany':'Berlin','Italy':'Roman'}\n",
        "a"
      ],
      "execution_count": null,
      "outputs": []
    },
    {
      "cell_type": "code",
      "metadata": {
        "id": "MKjJJiZqr2y2"
      },
      "source": [
        "#Type this\n",
        "\n",
        "a['Germany']"
      ],
      "execution_count": null,
      "outputs": []
    },
    {
      "cell_type": "markdown",
      "metadata": {
        "id": "9G-Pm6fSuBFp"
      },
      "source": [
        "###Mini Exercise 5 = What's the Difference between \"List\" vs \"Tuple\" vs \"Dictionary\"?"
      ]
    },
    {
      "cell_type": "markdown",
      "metadata": {
        "id": "fMnB1nwvr5-6"
      },
      "source": [
        "##Learning about Set"
      ]
    },
    {
      "cell_type": "code",
      "metadata": {
        "id": "sbIUnGXatc-s"
      },
      "source": [
        "# Type This\n",
        "\n",
        "a = {2,3,4}\n",
        "b = {3,2,2,4,4}\n",
        "b"
      ],
      "execution_count": null,
      "outputs": []
    },
    {
      "cell_type": "code",
      "metadata": {
        "colab": {
          "base_uri": "https://localhost:8080/"
        },
        "id": "xpI26i6ntjRE",
        "outputId": "a44e2ccc-900a-4b17-e764-ac9d36cd8403"
      },
      "source": [
        "#Type This\n",
        "\n",
        "sent = \"Peter reads a book on a table\"\n",
        "words = sent.split()\n",
        "words"
      ],
      "execution_count": null,
      "outputs": [
        {
          "output_type": "execute_result",
          "data": {
            "text/plain": [
              "{'Peter', 'a', 'book', 'on', 'reads', 'table'}"
            ]
          },
          "metadata": {},
          "execution_count": 10
        }
      ]
    },
    {
      "cell_type": "code",
      "metadata": {
        "colab": {
          "base_uri": "https://localhost:8080/"
        },
        "id": "7lQqc97Mtp8s",
        "outputId": "dea41d04-4a31-4ed3-b213-e74ff2717882"
      },
      "source": [
        "#Type This\n",
        "\n",
        "vocab = set(words)\n",
        "vocab"
      ],
      "execution_count": null,
      "outputs": [
        {
          "output_type": "execute_result",
          "data": {
            "text/plain": [
              "{'Peter', 'a', 'book', 'on', 'reads', 'table'}"
            ]
          },
          "metadata": {},
          "execution_count": 13
        }
      ]
    },
    {
      "cell_type": "code",
      "metadata": {
        "colab": {
          "base_uri": "https://localhost:8080/"
        },
        "id": "LNDqgAo6tuvk",
        "outputId": "10a12d13-703e-4ac9-d8c0-24edeafd36a7"
      },
      "source": [
        "len(vocab)"
      ],
      "execution_count": null,
      "outputs": [
        {
          "output_type": "execute_result",
          "data": {
            "text/plain": [
              "6"
            ]
          },
          "metadata": {},
          "execution_count": 14
        }
      ]
    },
    {
      "cell_type": "markdown",
      "metadata": {
        "id": "FHdsx0i-uUj_"
      },
      "source": [
        "###Mini Exercise 6 = What's the Difference between \"List\" vs \"Tuple\" vs \"Dictionary\" vs \"Set\"?"
      ]
    },
    {
      "cell_type": "markdown",
      "metadata": {
        "id": "Q4TulVNPNu1q"
      },
      "source": [
        "#Topic 3 = Operators"
      ]
    },
    {
      "cell_type": "code",
      "metadata": {
        "id": "qrO4i9YoNpiY"
      },
      "source": [
        "# Arithmetic Operators\n",
        "#Type this\n",
        "\n",
        "7%3"
      ],
      "execution_count": null,
      "outputs": []
    },
    {
      "cell_type": "code",
      "metadata": {
        "id": "VK-Rl7elt1rb"
      },
      "source": [
        "# Compound Operators\n",
        "#Type this\n",
        "\n",
        "a = 1\n",
        "#a = a + 2\n",
        "a += 2\n",
        "a"
      ],
      "execution_count": null,
      "outputs": []
    },
    {
      "cell_type": "code",
      "metadata": {
        "colab": {
          "base_uri": "https://localhost:8080/"
        },
        "id": "NVvysKmDN77S",
        "outputId": "c6bfdc65-1039-4fe7-cf24-c6b0531779d3"
      },
      "source": [
        "# Comparison Operators\n",
        "#Type this\n",
        "\n",
        "3>2"
      ],
      "execution_count": null,
      "outputs": [
        {
          "output_type": "execute_result",
          "data": {
            "text/plain": [
              "False"
            ]
          },
          "metadata": {},
          "execution_count": 15
        }
      ]
    },
    {
      "cell_type": "code",
      "metadata": {
        "id": "ss70k6d2OB0r"
      },
      "source": [
        "#Type this\n",
        "\n",
        "3==2"
      ],
      "execution_count": null,
      "outputs": []
    },
    {
      "cell_type": "code",
      "metadata": {
        "id": "AqviGyl3OEte"
      },
      "source": [
        "#Type this\n",
        "\n",
        "3!=2"
      ],
      "execution_count": null,
      "outputs": []
    },
    {
      "cell_type": "code",
      "metadata": {
        "id": "795e99rCOJbU"
      },
      "source": [
        "# Membership Operators\n",
        "#Type this\n",
        "\n",
        "a = ['apple','orange','banana','durian']\n",
        "'apple' in a"
      ],
      "execution_count": null,
      "outputs": []
    },
    {
      "cell_type": "code",
      "metadata": {
        "id": "eConqsL4OMCG"
      },
      "source": [
        "#Type this\n",
        "\n",
        "'mango' in a"
      ],
      "execution_count": null,
      "outputs": []
    },
    {
      "cell_type": "code",
      "metadata": {
        "id": "hKDwGN6OOUHj"
      },
      "source": [
        "# Logical Operators\n",
        "#Type this\n",
        "\n",
        "True or False"
      ],
      "execution_count": null,
      "outputs": []
    },
    {
      "cell_type": "code",
      "metadata": {
        "id": "FphuPFGYOZO4"
      },
      "source": [
        "#Type this\n",
        "\n",
        "True and False"
      ],
      "execution_count": null,
      "outputs": []
    },
    {
      "cell_type": "code",
      "metadata": {
        "id": "pun9eQDdOiYA"
      },
      "source": [
        "#Type this\n",
        "\n",
        "a = 1; b = 2;\n",
        "(a == 1) and not(b > 3)"
      ],
      "execution_count": null,
      "outputs": []
    },
    {
      "cell_type": "code",
      "metadata": {
        "id": "PlWrlCMuOoIf"
      },
      "source": [
        "#Type this\n",
        "\n",
        "(a == 1)"
      ],
      "execution_count": null,
      "outputs": []
    },
    {
      "cell_type": "code",
      "metadata": {
        "id": "oGR9aXKmOq3f"
      },
      "source": [
        "#Type this\n",
        "\n",
        "b > 3"
      ],
      "execution_count": null,
      "outputs": []
    },
    {
      "cell_type": "code",
      "metadata": {
        "id": "5Xom06Y-Ot2_"
      },
      "source": [
        "#Type this\n",
        "\n",
        "not(b > 3)"
      ],
      "execution_count": null,
      "outputs": []
    },
    {
      "cell_type": "code",
      "metadata": {
        "id": "GWQxQYPGOxSe"
      },
      "source": [
        "#Type this\n",
        "\n",
        "True and True"
      ],
      "execution_count": null,
      "outputs": []
    },
    {
      "cell_type": "markdown",
      "metadata": {
        "id": "qizxKjRgO8GQ"
      },
      "source": [
        "#Topic 4 = Control Structures"
      ]
    },
    {
      "cell_type": "markdown",
      "metadata": {
        "id": "h7f3QWf6PJym"
      },
      "source": [
        "##Learning about Conditions"
      ]
    },
    {
      "cell_type": "code",
      "metadata": {
        "id": "Hs85q5GUO_DH"
      },
      "source": [
        "# Conditional\n",
        "#Type This\n",
        "\n",
        "a = 3\n",
        "b = 3\n",
        "if (a<b):\n",
        "    print('a is small than b')\n",
        "elif (a>b):\n",
        "    print('a is larger than b')\n",
        "else:\n",
        "    print('a is same as b')"
      ],
      "execution_count": null,
      "outputs": []
    },
    {
      "cell_type": "markdown",
      "metadata": {
        "id": "3T0PwUryQNNk"
      },
      "source": [
        "###2nd Quiz of the Day..."
      ]
    },
    {
      "cell_type": "markdown",
      "metadata": {
        "id": "AgHWLzJmQSkv"
      },
      "source": [
        "grade = input('What is your grade :' )\n",
        "\n",
        "if grade is A, then print \"Excellent!\"\n",
        "\n",
        "if grade is B, then print \"Well done!\"\n",
        "\n",
        "if grade is C, then print \"Work harder \"\n",
        "\n",
        "otherwise, print \"I don't know your grade\"\n",
        "\n",
        "Run your Python program from the CMD Prompt\n",
        "(Windows) or Terminal (Mac) Eg:\n",
        "python test.py or python3 test.py (Mac)\n",
        "\n",
        "Time: 5 min"
      ]
    },
    {
      "cell_type": "code",
      "metadata": {
        "colab": {
          "base_uri": "https://localhost:8080/"
        },
        "id": "qDtIDrPTQQnc",
        "outputId": "12640af3-1193-471d-cc60-a10b7f56699a"
      },
      "source": [
        "#Hint to 2nd Quiz of the Day\n",
        "\n",
        "grade = input('What is your grade :' )\n",
        "grade = grade.upper()\n",
        "...\n",
        "...\n",
        "...\n",
        "...\n",
        "...\n",
        "...\n",
        "...\n",
        "..."
      ],
      "execution_count": null,
      "outputs": [
        {
          "name": "stdout",
          "output_type": "stream",
          "text": [
            "What is your grade :4\n"
          ]
        },
        {
          "output_type": "execute_result",
          "data": {
            "text/plain": [
              "Ellipsis"
            ]
          },
          "metadata": {},
          "execution_count": 16
        }
      ]
    },
    {
      "cell_type": "code",
      "metadata": {
        "id": "Ii7FvG5LcWds"
      },
      "source": [
        "# Answer to 2nd Quiz of the Day\n",
        "\n",
        "grade = input('What is your grade :' )\n",
        "grade = grade.upper()\n",
        "if grade=='A':\n",
        "    print('Excellent!')\n",
        "elif grade == 'B':\n",
        "    print('Well Done')\n",
        "elif grade=='C':\n",
        "    print('Work harder')\n",
        "else:\n",
        "    print(\"Sorry I don't know your grade\")"
      ],
      "execution_count": null,
      "outputs": []
    },
    {
      "cell_type": "markdown",
      "metadata": {
        "id": "dMvKO_0gRB5y"
      },
      "source": [
        "##Learning about Ternary Operators"
      ]
    },
    {
      "cell_type": "code",
      "metadata": {
        "id": "BlWbFQEXQw0Q"
      },
      "source": [
        "# Ternary Operator Example 1\n",
        "#Type this\n",
        "\n",
        "order = 10\n",
        "discount = 25 if order>100 else 0\n",
        "discount"
      ],
      "execution_count": null,
      "outputs": []
    },
    {
      "cell_type": "code",
      "metadata": {
        "id": "5VfWWkOCWo_V"
      },
      "source": [
        "# Ternary Operator Example 2\n",
        "# Type this\n",
        "\n",
        "a = 3\n",
        "b = 5\n",
        "c = a if a>b else b\n",
        "c"
      ],
      "execution_count": null,
      "outputs": []
    },
    {
      "cell_type": "markdown",
      "metadata": {
        "id": "UrU_IMQKYwRX"
      },
      "source": [
        "##Learning about While Loops"
      ]
    },
    {
      "cell_type": "code",
      "metadata": {
        "id": "AQRZSfHOYKpZ"
      },
      "source": [
        "# While loop\n",
        "#Type This\n",
        "\n",
        "a = 1\n",
        "while (a<10):\n",
        "    print(a)\n",
        "    a += 1"
      ],
      "execution_count": null,
      "outputs": []
    },
    {
      "cell_type": "markdown",
      "metadata": {
        "id": "dI0gGAHmalTV"
      },
      "source": [
        "###3rd Quiz of the Day"
      ]
    },
    {
      "cell_type": "markdown",
      "metadata": {
        "id": "ymY7RA6kasWH"
      },
      "source": [
        "**Fibonacci Sequence**\n",
        "\n",
        "Fibonacci number is the sum of the previous 2\n",
        "fibonacci numbers.\n",
        "\n",
        "Generate a Fibonacci sequence\n",
        "1, 1, 2, 3, 5, 8, 13, 21, 34, ...\n",
        "\n",
        "Use the while loop to print out the fibonacci\n",
        "sequence up to 100.\n",
        "\n",
        "Time: 10min"
      ]
    },
    {
      "cell_type": "code",
      "metadata": {
        "id": "2xGS5cQCa3Xy"
      },
      "source": [
        "#Hint to 3rd Quiz of the Day\n",
        "\n",
        "...\n",
        "\n",
        "while (b<100):\n",
        "  a,b = b,a+b\n",
        "  ...\n",
        "\n",
        "Question:\n",
        "is a,b = b,a+b same as\n",
        "a = b\n",
        "b = a +b"
      ],
      "execution_count": null,
      "outputs": []
    },
    {
      "cell_type": "code",
      "metadata": {
        "id": "G-whfcGubE94"
      },
      "source": [
        "#Answer to 3rd Quiz of the Day\n",
        "\n",
        "a,b=0,1\n",
        "\n",
        "while (b<100):\n",
        "    a,b = b,a+b\n",
        "    print(b)\n"
      ],
      "execution_count": null,
      "outputs": []
    },
    {
      "cell_type": "markdown",
      "metadata": {
        "id": "1nSCvcb815HP"
      },
      "source": [
        "##Learning about For Loops"
      ]
    },
    {
      "cell_type": "code",
      "metadata": {
        "id": "JK8tWMAl19D0"
      },
      "source": [
        "# For loop Example 1\n",
        "#Type this\n",
        "\n",
        "a = ['apple','orange','banana','durian']\n",
        "\n",
        "for i in a:\n",
        "    print(i)"
      ],
      "execution_count": null,
      "outputs": []
    },
    {
      "cell_type": "code",
      "metadata": {
        "id": "Ix2PLVMK2FP1"
      },
      "source": [
        "#For loop Example 2\n",
        "#Type this\n",
        "\n",
        "for i in range(1,20,2):\n",
        "    print(i)"
      ],
      "execution_count": null,
      "outputs": []
    },
    {
      "cell_type": "code",
      "metadata": {
        "id": "r6ylgXNX35cQ"
      },
      "source": [
        "#Using For with List\n",
        "#Type this\n",
        "\n",
        "a = range(2,12,2)\n",
        "list(a)"
      ],
      "execution_count": null,
      "outputs": []
    },
    {
      "cell_type": "markdown",
      "metadata": {
        "id": "3c2cXoCZ2jle"
      },
      "source": [
        "### 4th Quiz of the Day\n",
        "\n",
        "Generate a python list of 10 square numbers\n",
        "using for loop\n",
        "\n",
        "[1,4,9,16,25,36,49,64,81,100]\n",
        "\n",
        "Time: 5 mins"
      ]
    },
    {
      "cell_type": "code",
      "metadata": {
        "id": "SZ-mrNAH3f-v"
      },
      "source": [
        "#Hint to 4th Quiz of the Day\n",
        "\n",
        "a = []\n",
        "\n",
        "for i in range(1,11):\n",
        "  a.append(i*i)\n",
        "\n",
        "  ...\n"
      ],
      "execution_count": null,
      "outputs": []
    },
    {
      "cell_type": "code",
      "metadata": {
        "id": "ZerAAEiY3xR1"
      },
      "source": [
        "#Answer to 4th Quiz of the Day\n",
        "\n",
        "a = []\n",
        "\n",
        "for i in range(1,11):\n",
        "    a.append(i*i)\n",
        "a"
      ],
      "execution_count": null,
      "outputs": []
    },
    {
      "cell_type": "markdown",
      "metadata": {
        "id": "BOhUbGPf4POZ"
      },
      "source": [
        "## Learning about Enumeration"
      ]
    },
    {
      "cell_type": "code",
      "metadata": {
        "id": "v9M_IBxn4W9q"
      },
      "source": [
        "# Enumerate Example\n",
        "# Type this\n",
        "\n",
        "person = ['Alfred','Ally','Belinda']\n",
        "height = [170,160,155]\n",
        "\n",
        "for i,name in enumerate(person):\n",
        "    h = height[i]\n",
        "    print(\"{} height is {}cm\".format(name,h))"
      ],
      "execution_count": null,
      "outputs": []
    },
    {
      "cell_type": "markdown",
      "metadata": {
        "id": "iL-gu27H5hPP"
      },
      "source": [
        "##Learning about Zip"
      ]
    },
    {
      "cell_type": "code",
      "metadata": {
        "id": "sCxZWYJY5e3B"
      },
      "source": [
        "# Zip Example\n",
        "# Type this\n",
        "\n",
        "person = ['Alfred','Ally','Belinda']\n",
        "height = [170,160,155]\n",
        "\n",
        "c = zip(person,height)\n",
        "for name,h in c:\n",
        "    print(\"{} height is {}cm\".format(name,h))"
      ],
      "execution_count": null,
      "outputs": []
    },
    {
      "cell_type": "markdown",
      "metadata": {
        "id": "lukPsAid5okR"
      },
      "source": [
        "###5th Quiz of the Day\n",
        "\n",
        "name = ['Ally','Belinda','Jane']\n",
        "\n",
        "height = [170,159,161]\n",
        "\n",
        "weight = [60,55,45]\n",
        "\n",
        "Hint:\n",
        "for name,height,weight in zip(a,b,c):"
      ]
    },
    {
      "cell_type": "code",
      "metadata": {
        "id": "ECs44eR15x7F"
      },
      "source": [
        "#Answer to 5th Quiz of the Day\n",
        "\n",
        "person = ['Alfred','Ally','Belinda']\n",
        "height = [170,160,155]\n",
        "weight = [60,55,45]\n",
        "\n",
        "c = zip(person,height,weight)\n",
        "for name,h,w in c:\n",
        "    print(\"{} height is {}cm and weight is {}kg\".format(name,h,w))"
      ],
      "execution_count": null,
      "outputs": []
    },
    {
      "cell_type": "markdown",
      "metadata": {
        "id": "jDVLhXtO6WFm"
      },
      "source": [
        "##Learning about Breaks\n"
      ]
    },
    {
      "cell_type": "code",
      "metadata": {
        "id": "wYx-AEDV6YQH"
      },
      "source": [
        "#Break Example\n",
        "#Type This\n",
        "\n",
        "for i in range(10):\n",
        "    if i==4:break\n",
        "    print(i)"
      ],
      "execution_count": null,
      "outputs": []
    },
    {
      "cell_type": "markdown",
      "metadata": {
        "id": "YWmz2NjJ6d-R"
      },
      "source": [
        "##Learning about Continue"
      ]
    },
    {
      "cell_type": "code",
      "metadata": {
        "id": "hMys1c8u6l0y"
      },
      "source": [
        "#Continue Example\n",
        "#Type this\n",
        "\n",
        "for i in range(10):\n",
        "    if i==4:continue\n",
        "    print(i)"
      ],
      "execution_count": null,
      "outputs": []
    },
    {
      "cell_type": "markdown",
      "metadata": {
        "id": "gwtYH0gn79_G"
      },
      "source": [
        "# Topic 5 Function"
      ]
    },
    {
      "cell_type": "code",
      "metadata": {
        "id": "Hsfk9fEB8LzK"
      },
      "source": [
        "#Type this\n",
        "\n",
        "def f(x):\n",
        "    return x*x"
      ],
      "execution_count": null,
      "outputs": []
    },
    {
      "cell_type": "code",
      "metadata": {
        "id": "le_v-4H18UOT"
      },
      "source": [
        "#Type this\n",
        "\n",
        "f(3)"
      ],
      "execution_count": null,
      "outputs": []
    },
    {
      "cell_type": "markdown",
      "metadata": {
        "id": "rs8fjPts8a0r"
      },
      "source": [
        "##6th Quiz of the Day\n",
        "Create a function to compute taxi fare\n",
        "\n",
        "The only input is the distance\n",
        "\n",
        "The only output is the fare\n",
        "\n",
        "taxi fare = booking fee + starting price+\n",
        "distance*cost per km\n",
        "\n",
        "Time: 5 min"
      ]
    },
    {
      "cell_type": "code",
      "metadata": {
        "colab": {
          "base_uri": "https://localhost:8080/"
        },
        "id": "FdDIJlKS_Vco",
        "outputId": "7afdc040-b93b-4da0-b387-007db3324246"
      },
      "source": [
        "#Answer to 6th Quiz of the Day\n",
        "\n",
        "def fare(d):\n",
        "    book=2.0\n",
        "    start=3.0\n",
        "    cost=1.0\n",
        "    fare=book+start+d*cost\n",
        "    return fare\n",
        "    \n",
        "fare(10)"
      ],
      "execution_count": null,
      "outputs": [
        {
          "output_type": "execute_result",
          "data": {
            "text/plain": [
              "15.0"
            ]
          },
          "metadata": {},
          "execution_count": 1
        }
      ]
    },
    {
      "cell_type": "markdown",
      "metadata": {
        "id": "5kjOjf3I_ljh"
      },
      "source": [
        "##Learning Multiple Outputs"
      ]
    },
    {
      "cell_type": "code",
      "metadata": {
        "colab": {
          "base_uri": "https://localhost:8080/"
        },
        "id": "EsCj5jv-_bDl",
        "outputId": "27f8b7f1-44ca-4955-928c-b6a335556c4f"
      },
      "source": [
        "#Type this\n",
        "\n",
        "def f(x):\n",
        "    return x*x,2*x\n",
        "\n",
        "f(5)"
      ],
      "execution_count": null,
      "outputs": [
        {
          "output_type": "execute_result",
          "data": {
            "text/plain": [
              "(25, 10)"
            ]
          },
          "metadata": {},
          "execution_count": 2
        }
      ]
    },
    {
      "cell_type": "markdown",
      "metadata": {
        "id": "zzWnLXeRQHpc"
      },
      "source": [
        "###7th Quiz of the Day\n",
        "\n",
        "Create a function to return the discount and the\n",
        "tax for grocery purchase\n",
        "\n",
        "discount = 25 if order > 200 else 0\n",
        "\n",
        "disc_amt = discount*order/100\n",
        "\n",
        "tax = 0.07*(order - disc_amt)\n",
        "\n",
        "Time: 5 min"
      ]
    },
    {
      "cell_type": "code",
      "metadata": {
        "id": "p0e-kCGl_wLb"
      },
      "source": [
        "#Answer to 7th Quiz of the Day\n",
        "\n",
        "def grocery(order):\n",
        "    discount = 25 if order > 200 else 0\n",
        "    disc_amt = discount*order/100\n",
        "    tax = 0.07*(order - disc_amt)\n",
        "    return disc_amt,tax\n"
      ],
      "execution_count": null,
      "outputs": []
    },
    {
      "cell_type": "code",
      "metadata": {
        "id": "pzEV4KyhRvSm"
      },
      "source": [
        "#Type this\n",
        "\n",
        "order = input('How much is your. order')\n",
        "order = float(order)\n",
        "discount,tax = grocery(order)\n",
        "print('The discount is ${}'.format(discount))\n",
        "print('The tax is ${}'.format(round(tax,2)))"
      ],
      "execution_count": null,
      "outputs": []
    },
    {
      "cell_type": "markdown",
      "metadata": {
        "id": "k7N0E33qR_Gb"
      },
      "source": [
        "##Learning Multiple Arguments"
      ]
    },
    {
      "cell_type": "code",
      "metadata": {
        "id": "JhgIcYVxSFlN"
      },
      "source": [
        "#Type this\n",
        "\n",
        "def f(x,y):\n",
        "    return x*y"
      ],
      "execution_count": null,
      "outputs": []
    },
    {
      "cell_type": "code",
      "metadata": {
        "id": "dHVaZ4fCSVt8"
      },
      "source": [
        "#Type this\n",
        "\n",
        "f(2,3)"
      ],
      "execution_count": null,
      "outputs": []
    },
    {
      "cell_type": "code",
      "metadata": {
        "id": "0mTM9ZsFSXIe"
      },
      "source": [
        "#Type this\n",
        "\n",
        "f(2)"
      ],
      "execution_count": null,
      "outputs": []
    },
    {
      "cell_type": "markdown",
      "metadata": {
        "id": "1Wjns1EoSuiu"
      },
      "source": [
        "##Learning Default Argument"
      ]
    },
    {
      "cell_type": "code",
      "metadata": {
        "id": "df_RBQg4Sy7b"
      },
      "source": [
        "def f(x,y=3):\n",
        "    return x*y"
      ],
      "execution_count": null,
      "outputs": []
    },
    {
      "cell_type": "code",
      "metadata": {
        "id": "26_-vBA2S-KC"
      },
      "source": [
        "#Type this\n",
        "\n",
        "f(2)"
      ],
      "execution_count": null,
      "outputs": []
    },
    {
      "cell_type": "code",
      "metadata": {
        "id": "FFzqIiZNS_oZ"
      },
      "source": [
        "#Type this\n",
        "\n",
        "def f(x=3,y=3):\n",
        "    return x*y"
      ],
      "execution_count": null,
      "outputs": []
    },
    {
      "cell_type": "code",
      "metadata": {
        "id": "Sf9dA8gnTDJQ"
      },
      "source": [
        "#Type this\n",
        "\n",
        "f()"
      ],
      "execution_count": null,
      "outputs": []
    },
    {
      "cell_type": "code",
      "metadata": {
        "id": "Dhrv-6p1TIT3"
      },
      "source": [
        "#Type this\n",
        "\n",
        "f(y=5)"
      ],
      "execution_count": null,
      "outputs": []
    },
    {
      "cell_type": "markdown",
      "metadata": {
        "id": "0nlxFkS5TK5A"
      },
      "source": [
        "##Learning Variable Argument"
      ]
    },
    {
      "cell_type": "code",
      "metadata": {
        "id": "ONJygLLKTrb6"
      },
      "source": [
        "#Type this\n",
        "\n",
        "def sum(a,*b):\n",
        "    sum = a\n",
        "    for i in b:\n",
        "        sum = sum + i\n",
        "    return sum"
      ],
      "execution_count": null,
      "outputs": []
    },
    {
      "cell_type": "code",
      "metadata": {
        "id": "4SNO0Y1lTuQk"
      },
      "source": [
        "#Type this\n",
        "\n",
        "sum(2,3,4,5,6,7,8,9,10)"
      ],
      "execution_count": null,
      "outputs": []
    },
    {
      "cell_type": "markdown",
      "metadata": {
        "id": "1QnVQehfT1Cc"
      },
      "source": [
        "###8th Quiz of the Day\n",
        "\n",
        "Give a sequence of variable number of\n",
        "elements, create a function to determine the\n",
        "minimum value\n",
        "\n",
        "Time: 5 min\n",
        "\n",
        "Hint to 8th Quiz of the Day\n",
        "\n",
        "m = a\n",
        "\n",
        "for i in b:\n",
        "\n",
        "if i<m: m=i"
      ]
    },
    {
      "cell_type": "code",
      "metadata": {
        "id": "XxjkLT3OUGTY"
      },
      "source": [
        "#Answer to 8th Quiz of the Day\n",
        "\n",
        "def min(a,*b):\n",
        "    m = a\n",
        "    for i in b:\n",
        "        if i<m: m=i\n",
        "    return m"
      ],
      "execution_count": null,
      "outputs": []
    },
    {
      "cell_type": "code",
      "metadata": {
        "id": "DiVP4QQyUJTZ"
      },
      "source": [
        "#Type this\n",
        "\n",
        "min(7,4,8,9,10)"
      ],
      "execution_count": null,
      "outputs": []
    },
    {
      "cell_type": "markdown",
      "metadata": {
        "id": "uIefJx8EXeqN"
      },
      "source": [
        "##Learning About Lambda\n",
        "\n",
        "Syntax:\n",
        "\n",
        "lambda input : output\n",
        "\n",
        "\n",
        "\n",
        "equivalent to\n",
        "\n",
        "  def name(input):\n",
        "\n",
        "  return output"
      ]
    },
    {
      "cell_type": "code",
      "metadata": {
        "id": "mVGMhSgaYArh"
      },
      "source": [
        "#Lambda Example 1\n",
        "#Type this\n",
        "\n",
        "def f(x):\n",
        "    return x*x"
      ],
      "execution_count": null,
      "outputs": []
    },
    {
      "cell_type": "code",
      "metadata": {
        "id": "78T_q1HjYHZr"
      },
      "source": [
        "#The above example is equivalent to the one below\n",
        "#Type this\n",
        "\n",
        "a = lambda x:x*x"
      ],
      "execution_count": null,
      "outputs": []
    },
    {
      "cell_type": "code",
      "metadata": {
        "id": "EJ4VyVQ4YWRj"
      },
      "source": [
        "#Type this\n",
        "\n",
        "a(4)"
      ],
      "execution_count": null,
      "outputs": []
    },
    {
      "cell_type": "markdown",
      "metadata": {
        "id": "3g01OQsMYmwe"
      },
      "source": [
        "### 9th Quiz of the Day\n",
        "\n",
        "Write the lambda function for\n",
        "\n",
        "def f(x,y):\n",
        "\n",
        "return 10*x+y\n",
        "\n",
        "Time: 5 min"
      ]
    },
    {
      "cell_type": "code",
      "metadata": {
        "id": "UrOIlqYcYvX2"
      },
      "source": [
        "#Answer to 9th Quiz of the Day\n",
        "\n",
        "f = lambda x,y: 10*x+y\n",
        "\n",
        "def g(f,x,y=0):\n",
        "  return f(x,y); "
      ],
      "execution_count": null,
      "outputs": []
    },
    {
      "cell_type": "code",
      "metadata": {
        "id": "dBp8zd2-Y1mR"
      },
      "source": [
        "#Type this\n",
        "\n",
        "g(f,4)"
      ],
      "execution_count": null,
      "outputs": []
    },
    {
      "cell_type": "markdown",
      "metadata": {
        "id": "tr1Z4qLfaYrW"
      },
      "source": [
        "##Learning about Maps"
      ]
    },
    {
      "cell_type": "code",
      "metadata": {
        "id": "sbRPmYglabgj"
      },
      "source": [
        "#Type this\n",
        "\n",
        "a = [1,2,3,4]\n",
        "\n",
        "b = map(lambda x:2*x,a)\n",
        "list(b)"
      ],
      "execution_count": null,
      "outputs": []
    },
    {
      "cell_type": "markdown",
      "metadata": {
        "id": "8HCzFl7VaiBO"
      },
      "source": [
        "###10th Quiz of the Day\n",
        "\n",
        "Using map to compute the answer for\n",
        "\n",
        "f = lambda x,y:10*x+y\n",
        "\n",
        "x = [0,1,2,3]\n",
        "\n",
        "y = [2,4,6,8]\n",
        "\n",
        "Time: 5 min"
      ]
    },
    {
      "cell_type": "code",
      "metadata": {
        "id": "AL35Ba5Fa56c"
      },
      "source": [
        "#Hint to 10th Quiz of the Day\n",
        "\n",
        "map(lambda x,y:10*x+y,x,y)"
      ],
      "execution_count": null,
      "outputs": []
    },
    {
      "cell_type": "code",
      "metadata": {
        "id": "AgahE80aaqAZ"
      },
      "source": [
        "#Answer to 10th Quiz of the Day\n",
        "\n",
        "f = lambda x,y:10*x+y\n",
        "x = [0,1,2,3]\n",
        "y = [2,4,6,8]\n"
      ],
      "execution_count": null,
      "outputs": []
    },
    {
      "cell_type": "code",
      "metadata": {
        "id": "FpsRjGRGavmO"
      },
      "source": [
        "#Type this\n",
        "\n",
        "b = map(f,x,y)\n",
        "list(b)"
      ],
      "execution_count": null,
      "outputs": []
    },
    {
      "cell_type": "markdown",
      "metadata": {
        "id": "CWGw6dqtbFko"
      },
      "source": [
        "##Learning about Filters"
      ]
    },
    {
      "cell_type": "code",
      "metadata": {
        "id": "xD5wJqXBbMFG"
      },
      "source": [
        "#Type this\n",
        "\n",
        "a = [1,2,3,4,5,6,7,8]\n",
        "\n",
        "b = filter(lambda x:x>3,a)\n",
        "list(b)"
      ],
      "execution_count": null,
      "outputs": []
    },
    {
      "cell_type": "code",
      "metadata": {
        "id": "ZRAnbjrXbQD_"
      },
      "source": [
        "# Type this\n",
        "\n",
        "x = [0,1,-4, 2,-6,3]\n",
        "\n",
        "b = filter(lambda x:x>=0,x)\n",
        "list(b)"
      ],
      "execution_count": null,
      "outputs": []
    },
    {
      "cell_type": "markdown",
      "metadata": {
        "id": "gQdukc-NeQhn"
      },
      "source": [
        "#FINAL PRACTICE OF THE DAY\n",
        "\n",
        "- Write a Python function to compute taxi value\n",
        "        - booking fee is $3.0\n",
        "        - starting fee is $2.0\n",
        "        - cost per km is $2 for first 5km\n",
        "        - cost per km is $1.50 from 5km to 10 km\n",
        "        - cost per km is $1.00 after 10km\n",
        "        - if the age is > 60 years old, give 10% discount\n",
        "- Display the result as \n",
        "\n",
        "\"name, your taxi fare is  is <fare  value in 1 decimal place>\""
      ]
    },
    {
      "cell_type": "code",
      "metadata": {
        "id": "GeMSiWHZfRMs"
      },
      "source": [
        "##Answer to FINAL PRACTICE OF THE DAY\n",
        "\n",
        "def fare():\n",
        "    name = input('What is your name : ')\n",
        "    d = input('How long is the distance traveled : ')\n",
        "    d = float(d)\n",
        "    age = input('How old are you?')\n",
        "    age = int(age)\n",
        "    \n",
        "    if d<5: cost=2.0*d\n",
        "    if d>=5 and d<10: cost=2.0*5+1.5*(d-5)\n",
        "    if d>=10: cost= 2.0*5+1.5*5+1.0*(d-10)\n",
        "        \n",
        "    book=3.0\n",
        "    start=2.0\n",
        "    fare=book+start+cost\n",
        "    \n",
        "    if age>=70: fare=0.9*fare\n",
        "        \n",
        "    fare=round(fare,1)\n",
        "    print('{}, your taxi fare is ${}'.format(name,fare))\n"
      ],
      "execution_count": null,
      "outputs": []
    },
    {
      "cell_type": "code",
      "metadata": {
        "id": "N2bSfrkBiNwO"
      },
      "source": [
        "fare()"
      ],
      "execution_count": null,
      "outputs": []
    },
    {
      "cell_type": "markdown",
      "metadata": {
        "id": "YaF2oI2fciCZ"
      },
      "source": [
        "#FINAL QUIZ OF THE DAY \n",
        "\n",
        "*no time to do in class\n",
        "\n",
        "*do as self practice homework\n",
        "\n",
        "https://docs.google.com/forms/d/e/1FAIpQLSetInCVZIYKnjmZ-3OI2W3O__86rHpBYEY4sYZgxwZnmn9-Yw/viewform"
      ]
    }
  ]
}